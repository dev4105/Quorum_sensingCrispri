{
 "cells": [
  {
   "cell_type": "code",
   "execution_count": 26,
   "metadata": {},
   "outputs": [
    {
     "name": "stdout",
     "output_type": "stream",
     "text": [
      "Collecting pyswarms\n",
      "  Downloading https://files.pythonhosted.org/packages/d1/fd/5c2baba82425b75baf7dbec5af57219cd252aa8a1ace4f5cd1d88e472276/pyswarms-1.3.0-py2.py3-none-any.whl (104kB)\n",
      "Requirement already satisfied: scipy in c:\\users\\saiak\\anaconda3\\lib\\site-packages (from pyswarms) (1.3.1)\n",
      "Requirement already satisfied: numpy in c:\\users\\saiak\\anaconda3\\lib\\site-packages (from pyswarms) (1.16.5)\n",
      "Requirement already satisfied: matplotlib>=1.3.1 in c:\\users\\saiak\\anaconda3\\lib\\site-packages (from pyswarms) (3.1.1)\n",
      "Requirement already satisfied: future in c:\\users\\saiak\\anaconda3\\lib\\site-packages (from pyswarms) (0.18.2)\n",
      "Requirement already satisfied: attrs in c:\\users\\saiak\\anaconda3\\lib\\site-packages (from pyswarms) (19.3.0)\n",
      "Requirement already satisfied: pyyaml in c:\\users\\saiak\\anaconda3\\lib\\site-packages (from pyswarms) (5.1.2)\n",
      "Requirement already satisfied: tqdm in c:\\users\\saiak\\anaconda3\\lib\\site-packages (from pyswarms) (4.36.1)\n",
      "Requirement already satisfied: cycler>=0.10 in c:\\users\\saiak\\anaconda3\\lib\\site-packages (from matplotlib>=1.3.1->pyswarms) (0.10.0)\n",
      "Requirement already satisfied: kiwisolver>=1.0.1 in c:\\users\\saiak\\anaconda3\\lib\\site-packages (from matplotlib>=1.3.1->pyswarms) (1.1.0)\n",
      "Requirement already satisfied: pyparsing!=2.0.4,!=2.1.2,!=2.1.6,>=2.0.1 in c:\\users\\saiak\\anaconda3\\lib\\site-packages (from matplotlib>=1.3.1->pyswarms) (2.4.7)\n",
      "Requirement already satisfied: python-dateutil>=2.1 in c:\\users\\saiak\\anaconda3\\lib\\site-packages (from matplotlib>=1.3.1->pyswarms) (2.8.1)\n",
      "Requirement already satisfied: six in c:\\users\\saiak\\anaconda3\\lib\\site-packages (from cycler>=0.10->matplotlib>=1.3.1->pyswarms) (1.15.0)\n",
      "Requirement already satisfied: setuptools in c:\\users\\saiak\\anaconda3\\lib\\site-packages (from kiwisolver>=1.0.1->matplotlib>=1.3.1->pyswarms) (41.4.0)\n",
      "Installing collected packages: pyswarms\n",
      "Successfully installed pyswarms-1.3.0\n"
     ]
    }
   ],
   "source": [
    "!pip install pyswarms"
   ]
  },
  {
   "cell_type": "code",
   "execution_count": 1,
   "metadata": {},
   "outputs": [],
   "source": [
    "import numpy as np\n",
    "from scipy.integrate import odeint\n",
    "import matplotlib.pyplot as plt\n",
    "import plotly.express as px\n",
    "import plotly.graph_objects as go\n",
    "from plotly.subplots import make_subplots\n",
    "import pandas as pd\n",
    "from lmfit import minimize, Parameters, Parameter, report_fit\n",
    "import pyswarms as ps"
   ]
  },
  {
   "cell_type": "code",
   "execution_count": 2,
   "metadata": {},
   "outputs": [],
   "source": [
    "#Define constants\n",
    "global r, K, Vc, nAHL\n",
    "r1 = 1.2 #hr-1\n",
    "K1 = 10**10  #CFU/mL\n",
    "Vc = 10**(-12)  #mL Volume of one cell\n",
    "nAHL = 1000\n",
    "\n",
    "global t, data\n",
    "t = np.array([0.0,0.5,1.0,1.5,2.0,2.5,3.0,3.5,4.0,4.5,5.0,5.5,6.0,6.5,7.0,7.5,8.0,8.5,9.0,9.5,10.0,10.5,11.0,11.5,12.0,12.5,\n",
    "13.0,13.5,14.0,14.5,15.0,15.5,16.0,16.5,17.0,17.5,18.0,18.5,19.0,19.5,20.0,20.5,21.0,21.5,22.0,22.5,23.0,23.5,24.0,24.5,\n",
    "25.0,25.5,26.0,26.5,27.0,27.5,28.0,28.5,29.0,29.5,30.0,30.5,31.0,31.5,32.0,32.5,33.0,33.5,34.0,34.5,35.0,35.5,36.0,36.5,37.0,\n",
    "37.5,38.0,38.5,39.0,39.5,40.0,40.5,41.0,41.5,42.0,42.5,43.0,43.5,44.0,44.5,45.0,45.5,46.0,46.5,47.0,47.5])\n",
    "\n",
    "data = np.array([474,509.3333333,657.3333333,748.6666667,889.6666667,1001.333333,1213,1468.666667,1639.666667,1834.333333,\n",
    "2040.333333,2255.666667,2447.333333,2650,2839.666667,3053.666667,3218.333333,3386,3510,3596.333333,3634,3657,3651,3622,\n",
    "3604.666667,3541.333333,3451,3359.666667,3259.666667,3149.666667,3055.666667,2949.333333,2860,2781.666667,2709.666667,\n",
    "2647.666667,2610.666667,2560.333333,2506,2449,2396.333333,2338.333333,2270.333333,2214,2142.666667,2096.333333,2044,\n",
    "1988.666667,1947.666667,1910.666667,1868,1843.333333,1810,1776.333333,1759,1725.666667,1708,1681,1654.666667,1627.333333,1607.333333,\n",
    "1594.333333,1563.333333,1540.333333,1527.333333,1504.666667,1482.333333,1467.333333,1453,1428.333333,1410.666667,1397.666667,\n",
    "1379.666667,1367.666667,1355.333333,1348,1334.333333,1321,1312.666667,1302,1282.333333,1280.666667,1261.666667,1244,1229.333333,\n",
    "1214.333333,1198.333333,1188.333333,1172.333333,1154.333333,1148,1134.666667,1113.333333,1108.333333,1094.666667,1088.333333\n",
    "])\n",
    "                \n",
    "data = np.reshape(data, (96,1))\n"
   ]
  },
  {
   "cell_type": "code",
   "execution_count": 3,
   "metadata": {},
   "outputs": [],
   "source": [
    "#Function to generate ODEs for the qCRISPRi system\n",
    "\n",
    "def ode_gen_stringent_qcrispri(y, t, p ):\n",
    "    #unpack y values. \n",
    "    AHL, dCas9, GFP, N  = y\n",
    "    \n",
    "    alpha_pl = p['alpha_pl']\n",
    "    alpha_rl = p['alpha_rl']\n",
    "    alpha_ra = p['alpha_ra']\n",
    "    alpha_g= p['alpha_g']\n",
    "    \n",
    "    nHill_A = p['nHill_A']\n",
    "    nHill_c = p['nHill_c']\n",
    "    \n",
    "    Kd = p['Kd'] \n",
    "    KdCas = p['KdCas'] \n",
    "    \n",
    "    Kdeg_A = p['Kdeg_A'] \n",
    "    Kdeg_Cas = p['Kdeg_Cas'] \n",
    "    Kdeg_G = p['Kdeg_G']\n",
    "    m1 = p['m1']\n",
    "    c1 = p['c1'] \n",
    "    \n",
    "    \n",
    "    values = [\n",
    "              (alpha_pl + alpha_rl + (alpha_ra)*(AHL**nHill_A)/(Kd**nHill_A + AHL**nHill_A))*Vc*nHill_A*N - Kdeg_A*AHL, #AHL\n",
    "              alpha_pl + alpha_rl + (alpha_ra)*(AHL**nHill_A)/(Kd**nHill_A + AHL**nHill_A) - Kdeg_Cas*dCas9, #dCas9\n",
    "              m1*(alpha_g*0.1 + alpha_g*0.9*(KdCas**nHill_c)/(KdCas**nHill_c + dCas9**nHill_c)- Kdeg_G*GFP) + c1, #GFP\n",
    "              r1*N*(1-N/K1) #N\n",
    "            ]\n",
    "    \n",
    "    return(values)\n",
    "  \n",
    "def g(t, x0, p):\n",
    "  \"\"\"\n",
    "  Solution to the ODE x'(t) = f(t,x,k) with initial condition x(0) = x0\n",
    "  \"\"\"\n",
    "  sol = odeint(ode_gen_stringent_qcrispri, x0, t, args=(p,))\n",
    "  return sol\n",
    "\n",
    "def least_squares(gfp, data):\n",
    "    return(sum([(i - j)**2 for i, j in zip(gfp, data)]))\n",
    "\n",
    "def residual(particles):\n",
    "    x0 = [0, 0, 1000, 10**7]\n",
    "    obj_value = []\n",
    "    for X in particles:\n",
    "        p = {'alpha_pl': X[0],\n",
    "             'alpha_rl': X[1],\n",
    "             'alpha_ra': X[2],\n",
    "             'alpha_g' : X[3],\n",
    "             'Kd'      : X[4],\n",
    "             'KdCas'   : X[5],\n",
    "             'Kdeg_A'      : X[6],\n",
    "             'Kdeg_Cas'    : X[7],\n",
    "             'Kdeg_G'      : X[8],\n",
    "             'm1'       : X[9],\n",
    "             'c1'       : X[10],\n",
    "             'nHill_A'      : X[11],\n",
    "             'nHill_c'      : X[12]}\n",
    "        model_sol = g(t, x0, p)\n",
    "        GFP = np.reshape(model_sol[:, 2], (96,1))\n",
    "        obj_value.append(least_squares(GFP, data)[0])\n",
    "    return (obj_value)"
   ]
  },
  {
   "cell_type": "code",
   "execution_count": 4,
   "metadata": {},
   "outputs": [
    {
     "name": "stderr",
     "output_type": "stream",
     "text": [
      "2023-10-20 21:49:22,393 - pyswarms.single.global_best - INFO - Optimize for 50 iters with {'c1': 2.8, 'c2': 2, 'w': 0.9}\n",
      "pyswarms.single.global_best:   0%|                                        |0/50\n"
     ]
    },
    {
     "ename": "KeyboardInterrupt",
     "evalue": "",
     "output_type": "error",
     "traceback": [
      "\u001b[1;31m---------------------------------------------------------------------------\u001b[0m",
      "\u001b[1;31mKeyboardInterrupt\u001b[0m                         Traceback (most recent call last)",
      "\u001b[1;32m<ipython-input-4-70d5b821b85f>\u001b[0m in \u001b[0;36m<module>\u001b[1;34m\u001b[0m\n\u001b[0;32m     10\u001b[0m \u001b[1;33m\u001b[0m\u001b[0m\n\u001b[0;32m     11\u001b[0m \u001b[1;31m# Perform optimization\u001b[0m\u001b[1;33m\u001b[0m\u001b[1;33m\u001b[0m\u001b[1;33m\u001b[0m\u001b[0m\n\u001b[1;32m---> 12\u001b[1;33m \u001b[0mcost\u001b[0m\u001b[1;33m,\u001b[0m \u001b[0mpos\u001b[0m \u001b[1;33m=\u001b[0m \u001b[0moptimizer\u001b[0m\u001b[1;33m.\u001b[0m\u001b[0moptimize\u001b[0m\u001b[1;33m(\u001b[0m\u001b[0mresidual\u001b[0m\u001b[1;33m,\u001b[0m \u001b[0miters\u001b[0m\u001b[1;33m=\u001b[0m\u001b[1;36m50\u001b[0m\u001b[1;33m)\u001b[0m\u001b[1;33m\u001b[0m\u001b[1;33m\u001b[0m\u001b[0m\n\u001b[0m",
      "\u001b[1;32m~\\Anaconda3\\lib\\site-packages\\pyswarms\\single\\global_best.py\u001b[0m in \u001b[0;36moptimize\u001b[1;34m(self, objective_func, iters, n_processes, verbose, **kwargs)\u001b[0m\n\u001b[0;32m    207\u001b[0m             \u001b[1;31m# Compute cost for current position and personal best\u001b[0m\u001b[1;33m\u001b[0m\u001b[1;33m\u001b[0m\u001b[1;33m\u001b[0m\u001b[0m\n\u001b[0;32m    208\u001b[0m             \u001b[1;31m# fmt: off\u001b[0m\u001b[1;33m\u001b[0m\u001b[1;33m\u001b[0m\u001b[1;33m\u001b[0m\u001b[0m\n\u001b[1;32m--> 209\u001b[1;33m             \u001b[0mself\u001b[0m\u001b[1;33m.\u001b[0m\u001b[0mswarm\u001b[0m\u001b[1;33m.\u001b[0m\u001b[0mcurrent_cost\u001b[0m \u001b[1;33m=\u001b[0m \u001b[0mcompute_objective_function\u001b[0m\u001b[1;33m(\u001b[0m\u001b[0mself\u001b[0m\u001b[1;33m.\u001b[0m\u001b[0mswarm\u001b[0m\u001b[1;33m,\u001b[0m \u001b[0mobjective_func\u001b[0m\u001b[1;33m,\u001b[0m \u001b[0mpool\u001b[0m\u001b[1;33m=\u001b[0m\u001b[0mpool\u001b[0m\u001b[1;33m,\u001b[0m \u001b[1;33m**\u001b[0m\u001b[0mkwargs\u001b[0m\u001b[1;33m)\u001b[0m\u001b[1;33m\u001b[0m\u001b[1;33m\u001b[0m\u001b[0m\n\u001b[0m\u001b[0;32m    210\u001b[0m             \u001b[0mself\u001b[0m\u001b[1;33m.\u001b[0m\u001b[0mswarm\u001b[0m\u001b[1;33m.\u001b[0m\u001b[0mpbest_pos\u001b[0m\u001b[1;33m,\u001b[0m \u001b[0mself\u001b[0m\u001b[1;33m.\u001b[0m\u001b[0mswarm\u001b[0m\u001b[1;33m.\u001b[0m\u001b[0mpbest_cost\u001b[0m \u001b[1;33m=\u001b[0m \u001b[0mcompute_pbest\u001b[0m\u001b[1;33m(\u001b[0m\u001b[0mself\u001b[0m\u001b[1;33m.\u001b[0m\u001b[0mswarm\u001b[0m\u001b[1;33m)\u001b[0m\u001b[1;33m\u001b[0m\u001b[1;33m\u001b[0m\u001b[0m\n\u001b[0;32m    211\u001b[0m             \u001b[1;31m# Set best_cost_yet_found for ftol\u001b[0m\u001b[1;33m\u001b[0m\u001b[1;33m\u001b[0m\u001b[1;33m\u001b[0m\u001b[0m\n",
      "\u001b[1;32m~\\Anaconda3\\lib\\site-packages\\pyswarms\\backend\\operators.py\u001b[0m in \u001b[0;36mcompute_objective_function\u001b[1;34m(swarm, objective_func, pool, **kwargs)\u001b[0m\n\u001b[0;32m    237\u001b[0m     \"\"\"\n\u001b[0;32m    238\u001b[0m     \u001b[1;32mif\u001b[0m \u001b[0mpool\u001b[0m \u001b[1;32mis\u001b[0m \u001b[1;32mNone\u001b[0m\u001b[1;33m:\u001b[0m\u001b[1;33m\u001b[0m\u001b[1;33m\u001b[0m\u001b[0m\n\u001b[1;32m--> 239\u001b[1;33m         \u001b[1;32mreturn\u001b[0m \u001b[0mobjective_func\u001b[0m\u001b[1;33m(\u001b[0m\u001b[0mswarm\u001b[0m\u001b[1;33m.\u001b[0m\u001b[0mposition\u001b[0m\u001b[1;33m,\u001b[0m \u001b[1;33m**\u001b[0m\u001b[0mkwargs\u001b[0m\u001b[1;33m)\u001b[0m\u001b[1;33m\u001b[0m\u001b[1;33m\u001b[0m\u001b[0m\n\u001b[0m\u001b[0;32m    240\u001b[0m     \u001b[1;32melse\u001b[0m\u001b[1;33m:\u001b[0m\u001b[1;33m\u001b[0m\u001b[1;33m\u001b[0m\u001b[0m\n\u001b[0;32m    241\u001b[0m         results = pool.map(\n",
      "\u001b[1;32m<ipython-input-3-d92948d5f705>\u001b[0m in \u001b[0;36mresidual\u001b[1;34m(particles)\u001b[0m\n\u001b[0;32m     59\u001b[0m              \u001b[1;34m'nHill_A'\u001b[0m      \u001b[1;33m:\u001b[0m \u001b[0mX\u001b[0m\u001b[1;33m[\u001b[0m\u001b[1;36m11\u001b[0m\u001b[1;33m]\u001b[0m\u001b[1;33m,\u001b[0m\u001b[1;33m\u001b[0m\u001b[1;33m\u001b[0m\u001b[0m\n\u001b[0;32m     60\u001b[0m              'nHill_c'      : X[12]}\n\u001b[1;32m---> 61\u001b[1;33m         \u001b[0mmodel_sol\u001b[0m \u001b[1;33m=\u001b[0m \u001b[0mg\u001b[0m\u001b[1;33m(\u001b[0m\u001b[0mt\u001b[0m\u001b[1;33m,\u001b[0m \u001b[0mx0\u001b[0m\u001b[1;33m,\u001b[0m \u001b[0mp\u001b[0m\u001b[1;33m)\u001b[0m\u001b[1;33m\u001b[0m\u001b[1;33m\u001b[0m\u001b[0m\n\u001b[0m\u001b[0;32m     62\u001b[0m         \u001b[0mGFP\u001b[0m \u001b[1;33m=\u001b[0m \u001b[0mnp\u001b[0m\u001b[1;33m.\u001b[0m\u001b[0mreshape\u001b[0m\u001b[1;33m(\u001b[0m\u001b[0mmodel_sol\u001b[0m\u001b[1;33m[\u001b[0m\u001b[1;33m:\u001b[0m\u001b[1;33m,\u001b[0m \u001b[1;36m2\u001b[0m\u001b[1;33m]\u001b[0m\u001b[1;33m,\u001b[0m \u001b[1;33m(\u001b[0m\u001b[1;36m96\u001b[0m\u001b[1;33m,\u001b[0m\u001b[1;36m1\u001b[0m\u001b[1;33m)\u001b[0m\u001b[1;33m)\u001b[0m\u001b[1;33m\u001b[0m\u001b[1;33m\u001b[0m\u001b[0m\n\u001b[0;32m     63\u001b[0m         \u001b[0mobj_value\u001b[0m\u001b[1;33m.\u001b[0m\u001b[0mappend\u001b[0m\u001b[1;33m(\u001b[0m\u001b[0mleast_squares\u001b[0m\u001b[1;33m(\u001b[0m\u001b[0mGFP\u001b[0m\u001b[1;33m,\u001b[0m \u001b[0mdata\u001b[0m\u001b[1;33m)\u001b[0m\u001b[1;33m[\u001b[0m\u001b[1;36m0\u001b[0m\u001b[1;33m]\u001b[0m\u001b[1;33m)\u001b[0m\u001b[1;33m\u001b[0m\u001b[1;33m\u001b[0m\u001b[0m\n",
      "\u001b[1;32m<ipython-input-3-d92948d5f705>\u001b[0m in \u001b[0;36mg\u001b[1;34m(t, x0, p)\u001b[0m\n\u001b[0;32m     36\u001b[0m   \u001b[0mSolution\u001b[0m \u001b[0mto\u001b[0m \u001b[0mthe\u001b[0m \u001b[0mODE\u001b[0m \u001b[0mx\u001b[0m\u001b[0;31m'\u001b[0m\u001b[1;33m(\u001b[0m\u001b[0mt\u001b[0m\u001b[1;33m)\u001b[0m \u001b[1;33m=\u001b[0m \u001b[0mf\u001b[0m\u001b[1;33m(\u001b[0m\u001b[0mt\u001b[0m\u001b[1;33m,\u001b[0m\u001b[0mx\u001b[0m\u001b[1;33m,\u001b[0m\u001b[0mk\u001b[0m\u001b[1;33m)\u001b[0m \u001b[1;32mwith\u001b[0m \u001b[0minitial\u001b[0m \u001b[0mcondition\u001b[0m \u001b[0mx\u001b[0m\u001b[1;33m(\u001b[0m\u001b[1;36m0\u001b[0m\u001b[1;33m)\u001b[0m \u001b[1;33m=\u001b[0m \u001b[0mx0\u001b[0m\u001b[1;33m\u001b[0m\u001b[1;33m\u001b[0m\u001b[0m\n\u001b[0;32m     37\u001b[0m   \"\"\"\n\u001b[1;32m---> 38\u001b[1;33m   \u001b[0msol\u001b[0m \u001b[1;33m=\u001b[0m \u001b[0modeint\u001b[0m\u001b[1;33m(\u001b[0m\u001b[0mode_gen_stringent_qcrispri\u001b[0m\u001b[1;33m,\u001b[0m \u001b[0mx0\u001b[0m\u001b[1;33m,\u001b[0m \u001b[0mt\u001b[0m\u001b[1;33m,\u001b[0m \u001b[0margs\u001b[0m\u001b[1;33m=\u001b[0m\u001b[1;33m(\u001b[0m\u001b[0mp\u001b[0m\u001b[1;33m,\u001b[0m\u001b[1;33m)\u001b[0m\u001b[1;33m)\u001b[0m\u001b[1;33m\u001b[0m\u001b[1;33m\u001b[0m\u001b[0m\n\u001b[0m\u001b[0;32m     39\u001b[0m   \u001b[1;32mreturn\u001b[0m \u001b[0msol\u001b[0m\u001b[1;33m\u001b[0m\u001b[1;33m\u001b[0m\u001b[0m\n\u001b[0;32m     40\u001b[0m \u001b[1;33m\u001b[0m\u001b[0m\n",
      "\u001b[1;32m~\\Anaconda3\\lib\\site-packages\\scipy\\integrate\\odepack.py\u001b[0m in \u001b[0;36modeint\u001b[1;34m(func, y0, t, args, Dfun, col_deriv, full_output, ml, mu, rtol, atol, tcrit, h0, hmax, hmin, ixpr, mxstep, mxhnil, mxordn, mxords, printmessg, tfirst)\u001b[0m\n\u001b[0;32m    237\u001b[0m                          \"allowed.\")\n\u001b[0;32m    238\u001b[0m \u001b[1;33m\u001b[0m\u001b[0m\n\u001b[1;32m--> 239\u001b[1;33m     \u001b[0mt\u001b[0m \u001b[1;33m=\u001b[0m \u001b[0mcopy\u001b[0m\u001b[1;33m(\u001b[0m\u001b[0mt\u001b[0m\u001b[1;33m)\u001b[0m\u001b[1;33m\u001b[0m\u001b[1;33m\u001b[0m\u001b[0m\n\u001b[0m\u001b[0;32m    240\u001b[0m     \u001b[0my0\u001b[0m \u001b[1;33m=\u001b[0m \u001b[0mcopy\u001b[0m\u001b[1;33m(\u001b[0m\u001b[0my0\u001b[0m\u001b[1;33m)\u001b[0m\u001b[1;33m\u001b[0m\u001b[1;33m\u001b[0m\u001b[0m\n\u001b[0;32m    241\u001b[0m     output = _odepack.odeint(func, y0, t, args, Dfun, col_deriv, ml, mu,\n",
      "\u001b[1;32m~\\Anaconda3\\lib\\copy.py\u001b[0m in \u001b[0;36mcopy\u001b[1;34m(x)\u001b[0m\n\u001b[0;32m     86\u001b[0m     \u001b[0mcopier\u001b[0m \u001b[1;33m=\u001b[0m \u001b[0mgetattr\u001b[0m\u001b[1;33m(\u001b[0m\u001b[0mcls\u001b[0m\u001b[1;33m,\u001b[0m \u001b[1;34m\"__copy__\"\u001b[0m\u001b[1;33m,\u001b[0m \u001b[1;32mNone\u001b[0m\u001b[1;33m)\u001b[0m\u001b[1;33m\u001b[0m\u001b[1;33m\u001b[0m\u001b[0m\n\u001b[0;32m     87\u001b[0m     \u001b[1;32mif\u001b[0m \u001b[0mcopier\u001b[0m\u001b[1;33m:\u001b[0m\u001b[1;33m\u001b[0m\u001b[1;33m\u001b[0m\u001b[0m\n\u001b[1;32m---> 88\u001b[1;33m         \u001b[1;32mreturn\u001b[0m \u001b[0mcopier\u001b[0m\u001b[1;33m(\u001b[0m\u001b[0mx\u001b[0m\u001b[1;33m)\u001b[0m\u001b[1;33m\u001b[0m\u001b[1;33m\u001b[0m\u001b[0m\n\u001b[0m\u001b[0;32m     89\u001b[0m \u001b[1;33m\u001b[0m\u001b[0m\n\u001b[0;32m     90\u001b[0m     \u001b[0mreductor\u001b[0m \u001b[1;33m=\u001b[0m \u001b[0mdispatch_table\u001b[0m\u001b[1;33m.\u001b[0m\u001b[0mget\u001b[0m\u001b[1;33m(\u001b[0m\u001b[0mcls\u001b[0m\u001b[1;33m)\u001b[0m\u001b[1;33m\u001b[0m\u001b[1;33m\u001b[0m\u001b[0m\n",
      "\u001b[1;31mKeyboardInterrupt\u001b[0m: "
     ]
    }
   ],
   "source": [
    "# Set-up hyperparameters\n",
    "options = { 'c1' : 2.8,  'c2' : 2,  'w' :0.9}\n",
    "\n",
    "constraints = (np.array([0, 0 , 10 , 100 , 0,    0,  0, 0, 0, 0, 100 , 1,  0]),\n",
    "               np.array([ 1, 1.5, 80 , 350 , 100,  3, 2, 4, 4,  5,1000, 2,  1]))\n",
    "\n",
    "\n",
    "# Call instance of PSO\n",
    "optimizer = ps.single.GlobalBestPSO(n_particles=20000, dimensions=13, options=options, bounds = constraints)\n",
    "\n",
    "# Perform optimization\n",
    "cost, pos = optimizer.optimize(residual, iters=50)"
   ]
  },
  {
   "cell_type": "code",
   "execution_count": 8,
   "metadata": {},
   "outputs": [],
   "source": [
    "p = {'alpha_pl': pos[0],\n",
    "     'alpha_rl': pos[1],\n",
    "     'alpha_ra': pos[2],\n",
    "     'alpha_g' : pos[3],\n",
    "     'Kd'      : pos[4],\n",
    "     'KdCas'   : pos[5],\n",
    "     'Kdeg_A'  : pos[6],\n",
    "     'Kdeg_Cas'    : pos[7],\n",
    "     'Kdeg_G'      : pos[8],\n",
    "     'm1'       : pos[9],\n",
    "     'c1'       : pos[10],\n",
    "     'nHill_A'      : pos[11],\n",
    "     'nHill_c'      : pos[12]}\n",
    "sim_gfp = g(t, [0, 0, 1000, 10**7], p)\n",
    "plt.plot(t, data, 'o')\n",
    "plt.plot(t, sim_gfp[:,2], '--', linewidth=2, c='blue');"
   ]
  },
  {
   "cell_type": "code",
   "execution_count": null,
   "metadata": {},
   "outputs": [],
   "source": [
    "Final params used: [4.67441817e-01 7.36403506e-02 5.93643237e+01 2.38834527e+02\n",
    " 3.64363621e+01 2.62536672e+00 1.90995169e+00 1.93552931e+00\n",
    " 6.42944859e-02 4.64299180e+00 1.19480485e+02 1.02038175e+00\n",
    " 9.85400641e-01]\n",
    "best_cost=2.72e+6\n",
    "\n",
    "\n",
    "new data:\n",
    "    best cost: 19918502.190719567, best pos: [9.31141000e-03 1.28926261e+00 5.09873278e+01 2.43893318e+02\n",
    " 1.74151165e+00 2.09443154e+00 7.33990053e-02 3.18903170e+00\n",
    " 9.83017994e-02 3.71330439e+00 2.16070649e+02 1.91681377e+00\n",
    " 9.02066447e-01]"
   ]
  },
  {
   "cell_type": "code",
   "execution_count": null,
   "metadata": {},
   "outputs": [],
   "source": [
    "Kdeg_A = float(stringent_sys_params[\"Kdeg_A\"])    #deg rate for AHL\n",
    "Kdeg_Cas = float(stringent_sys_params[\"Kdeg_Cas\"])     #deg rate for dCas9\n",
    "Kdeg_G = float(stringent_sys_params[\"Kdeg_G\"])      #deg rate for GFP\n",
    "m1 = float(stringent_sys_params[\"m1\"])     #\n",
    "c1 = float(stringent_sys_params[\"c1\"])     #\n"
   ]
  }
 ],
 "metadata": {
  "kernelspec": {
   "display_name": "Python 3",
   "language": "python",
   "name": "python3"
  },
  "language_info": {
   "codemirror_mode": {
    "name": "ipython",
    "version": 3
   },
   "file_extension": ".py",
   "mimetype": "text/x-python",
   "name": "python",
   "nbconvert_exporter": "python",
   "pygments_lexer": "ipython3",
   "version": "3.7.4"
  },
  "toc": {
   "base_numbering": 1,
   "nav_menu": {},
   "number_sections": true,
   "sideBar": true,
   "skip_h1_title": false,
   "title_cell": "Table of Contents",
   "title_sidebar": "Contents",
   "toc_cell": false,
   "toc_position": {},
   "toc_section_display": true,
   "toc_window_display": false
  }
 },
 "nbformat": 4,
 "nbformat_minor": 4
}
