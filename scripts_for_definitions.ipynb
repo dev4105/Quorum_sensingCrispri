{
 "cells": [
  {
   "cell_type": "markdown",
   "metadata": {},
   "source": [
    "This notebook contain utility code used for creating some charts that are used in creating definition images and other miscellaneous figures"
   ]
  },
  {
   "cell_type": "code",
   "execution_count": 1,
   "metadata": {},
   "outputs": [],
   "source": [
    "import pandas as pd\n",
    "import numpy as np\n",
    "from scipy.integrate import odeint\n",
    "import matplotlib.pyplot as plt\n",
    "import matplotlib\n",
    "import seaborn as sns\n",
    "import plotly.express as px\n",
    "import plotly.graph_objects as go\n",
    "from plotly.subplots import make_subplots\n",
    "from src.generate_ode import ode_gen_qcrispri, ode_gen_qcrispri_simple, ode_gen_qcrispri_sponge, ode_gen_quorum\n",
    "from src.calculate_metrics import CalculateDynamicsMetrics\n",
    "from src.solve_ode import solve_qcrispri, solve_qcrispri_simple, solve_qcrispri_sponge, solve_quorum, t\n",
    "from src.plots import vertical_stack_plot_3\n",
    "from src.sensitivity_analysis import twoParam_vary\n"
   ]
  },
  {
   "cell_type": "code",
   "execution_count": null,
   "metadata": {},
   "outputs": [],
   "source": [
    "qcrispri_df = solve_qcrispri()\n",
    "\n",
    "\n",
    "#Plot GFP vs Time for \"qCRISPRi MODEL\"\n",
    "fig, ax = plt.subplots(figsize = (6,4))\n",
    "plt.plot(t, qcrispri_df.GFP, linewidth = 2, color = 'red')\n",
    "ax.set_xlim(0,16)\n",
    "for i in ['right', 'left', 'top', 'bottom']:\n",
    "    ax.spines[i].set(linewidth = 1)\n",
    "#ax.set_xlabel('Time (hr)', fontsize = 12)\n",
    "#ax.set_ylabel('GFP Fluorescence [au]',  fontsize = 12)\n",
    "ax.legend(prop={\"size\":8}, loc = 'upper right')\n",
    "plt.xticks(fontsize = 12)\n",
    "plt.yticks(fontsize = 12)\n",
    "plt.rc('legend', fontsize=8)\n",
    "plt.legend()\n",
    "plt.show()\n",
    "fig.savefig('Figures\\definitions.png', dpi=350, bbox_inches = \"tight\")"
   ]
  },
  {
   "cell_type": "code",
   "execution_count": null,
   "metadata": {},
   "outputs": [],
   "source": [
    "leaky = repr_paramData1[repr_paramData1['alphaT'] == alpha0]\n",
    "nonleaky = repr_paramData1[repr_paramData1['alphaT'] == 0]\n",
    "fig, (ax1, ax2) = plt.subplots(2,1, figsize = (4,4))\n",
    "ax1.plot(leaky.activity_ratio, leaky.max_gfp, color ='orange')\n",
    "ax1.plot(nonleaky.activity_ratio, nonleaky.max_gfp, color = 'green')\n",
    "ax2.plot(leaky.activity_ratio, leaky.switching_density, color ='orange')\n",
    "ax2.plot(nonleaky.activity_ratio, nonleaky.switching_density, color = 'green')\n",
    "\n",
    "ax1.tick_params(bottom = False)\n",
    "ax1.set_xticklabels(labels = '')\n",
    "\n",
    "plt.gca().invert_xaxis()\n",
    "plt.xticks([0.6, 0.5, 0.4, 0.3, 0.2, 0.1],[40, 50, 60, 70, 80, 90])\n",
    "fig.show()\n",
    "#plt.savefig('Figures/repr_str_leaky_nonleaky1.png', dpi = 350, bbox_inches = 'tight')"
   ]
  },
  {
   "cell_type": "code",
   "execution_count": null,
   "metadata": {},
   "outputs": [],
   "source": [
    "fig, (ax3, ax4) = plt.subplots(2,1, figsize = (4,4))\n",
    "ax3.plot(leaky.activity_ratio, leaky.FoldRepression, color ='orange')\n",
    "ax3.plot(nonleaky.activity_ratio, nonleaky.FoldRepression, color = 'green')\n",
    "ax4.plot(leaky.activity_ratio, leaky.Transition_time, color ='orange')\n",
    "ax4.plot(nonleaky.activity_ratio, nonleaky.Transition_time, color = 'green')\n",
    "\n",
    "ax3.tick_params(bottom = False)\n",
    "ax3.set_xticklabels(labels = '')\n",
    "\n",
    "plt.gca().invert_xaxis()\n",
    "plt.xticks([0.6, 0.5, 0.4, 0.3, 0.2, 0.1],[40, 50, 60, 70, 80, 90])\n",
    "fig.show()\n",
    "plt.savefig('Figures/repr_str_leaky_nonleaky2.png', dpi = 350, bbox_inches = 'tight')"
   ]
  }
 ],
 "metadata": {
  "kernelspec": {
   "display_name": "metabolic_modeling",
   "language": "python",
   "name": "python3"
  },
  "language_info": {
   "codemirror_mode": {
    "name": "ipython",
    "version": 3
   },
   "file_extension": ".py",
   "mimetype": "text/x-python",
   "name": "python",
   "nbconvert_exporter": "python",
   "pygments_lexer": "ipython3",
   "version": "3.12.0"
  }
 },
 "nbformat": 4,
 "nbformat_minor": 2
}
