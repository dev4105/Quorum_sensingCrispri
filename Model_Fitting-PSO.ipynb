{
 "cells": [
  {
   "cell_type": "code",
   "execution_count": 26,
   "metadata": {},
   "outputs": [
    {
     "name": "stdout",
     "output_type": "stream",
     "text": [
      "Collecting pyswarms\n",
      "  Downloading https://files.pythonhosted.org/packages/d1/fd/5c2baba82425b75baf7dbec5af57219cd252aa8a1ace4f5cd1d88e472276/pyswarms-1.3.0-py2.py3-none-any.whl (104kB)\n",
      "Requirement already satisfied: scipy in c:\\users\\saiak\\anaconda3\\lib\\site-packages (from pyswarms) (1.3.1)\n",
      "Requirement already satisfied: numpy in c:\\users\\saiak\\anaconda3\\lib\\site-packages (from pyswarms) (1.16.5)\n",
      "Requirement already satisfied: matplotlib>=1.3.1 in c:\\users\\saiak\\anaconda3\\lib\\site-packages (from pyswarms) (3.1.1)\n",
      "Requirement already satisfied: future in c:\\users\\saiak\\anaconda3\\lib\\site-packages (from pyswarms) (0.18.2)\n",
      "Requirement already satisfied: attrs in c:\\users\\saiak\\anaconda3\\lib\\site-packages (from pyswarms) (19.3.0)\n",
      "Requirement already satisfied: pyyaml in c:\\users\\saiak\\anaconda3\\lib\\site-packages (from pyswarms) (5.1.2)\n",
      "Requirement already satisfied: tqdm in c:\\users\\saiak\\anaconda3\\lib\\site-packages (from pyswarms) (4.36.1)\n",
      "Requirement already satisfied: cycler>=0.10 in c:\\users\\saiak\\anaconda3\\lib\\site-packages (from matplotlib>=1.3.1->pyswarms) (0.10.0)\n",
      "Requirement already satisfied: kiwisolver>=1.0.1 in c:\\users\\saiak\\anaconda3\\lib\\site-packages (from matplotlib>=1.3.1->pyswarms) (1.1.0)\n",
      "Requirement already satisfied: pyparsing!=2.0.4,!=2.1.2,!=2.1.6,>=2.0.1 in c:\\users\\saiak\\anaconda3\\lib\\site-packages (from matplotlib>=1.3.1->pyswarms) (2.4.7)\n",
      "Requirement already satisfied: python-dateutil>=2.1 in c:\\users\\saiak\\anaconda3\\lib\\site-packages (from matplotlib>=1.3.1->pyswarms) (2.8.1)\n",
      "Requirement already satisfied: six in c:\\users\\saiak\\anaconda3\\lib\\site-packages (from cycler>=0.10->matplotlib>=1.3.1->pyswarms) (1.15.0)\n",
      "Requirement already satisfied: setuptools in c:\\users\\saiak\\anaconda3\\lib\\site-packages (from kiwisolver>=1.0.1->matplotlib>=1.3.1->pyswarms) (41.4.0)\n",
      "Installing collected packages: pyswarms\n",
      "Successfully installed pyswarms-1.3.0\n"
     ]
    }
   ],
   "source": [
    "!pip install pyswarms"
   ]
  },
  {
   "cell_type": "code",
   "execution_count": 1,
   "metadata": {},
   "outputs": [],
   "source": [
    "import numpy as np\n",
    "from scipy.integrate import odeint\n",
    "import matplotlib.pyplot as plt\n",
    "import plotly.express as px\n",
    "import plotly.graph_objects as go\n",
    "from plotly.subplots import make_subplots\n",
    "import pandas as pd\n",
    "from lmfit import minimize, Parameters, Parameter, report_fit\n",
    "import pyswarms as ps"
   ]
  },
  {
   "cell_type": "code",
   "execution_count": null,
   "metadata": {},
   "outputs": [],
   "source": [
    "#Define constants - Constants used before fitting data based on lit review. \n",
    "\n",
    "#hr^-1\n",
    "alpha0 = 0.54\n",
    "alphaI = 20\n",
    "alphaR = 1\n",
    "alphaG = 100\n",
    "alphaG_deac = 10\n",
    "alphaT = 0.54\n",
    "alpha_Act0 = 0.05\n",
    "alpha_Act = 20\n",
    "\n",
    "nA = 10**3\n",
    "nG = 1\n",
    "\n",
    "k1R = 1  #hr-1\n",
    "k2R = 2  #hr-1\n",
    "kd1 = 2 #nM\n",
    "kd2 = 0.01 #nM\n",
    "kcasR = 2  #hr-1\n",
    "kdCas = 2.7 #nM\n",
    "KM = 10 #nM\n",
    "kActR = 40 #hr-1\n",
    "kdAct = 20.2 #nM\n",
    "\n",
    "#hr-1\n",
    "dR = 1.386\n",
    "dA = 0.0289\n",
    "dCas = 1.0397\n",
    "dG = 1.0397\n",
    "dc = 1.386\n",
    "dsspB = 5\n",
    "\n",
    "\n"
   ]
  },
  {
   "cell_type": "markdown",
   "metadata": {},
   "source": [
    "### Constants used in all model fit and simulations\n",
    "r = 1.7 #hr-1  <br>\n",
    "K = 10**12  #CFU/mL  <br>\n",
    "pT = 25 #nM  <br>\n",
    "pTsponge = 50  #nM  <br>\n",
    "Vc = 10**(-12)  #mL Volume of one cell  <br>\n",
    "mu = 1.3 #hr-1  <br>\n",
    "alphaGdeac = 0.1*alphaG  <br>\n",
    "nA = 100  <br>\n"
   ]
  },
  {
   "cell_type": "code",
   "execution_count": 2,
   "metadata": {},
   "outputs": [],
   "source": [
    "global t, data, pT\n",
    "t = np.array([0.0,0.5,1.0,1.5,2.0,2.5,3.0,3.5,4.0,4.5,5.0,5.5,6.0,6.5,7.0,7.5,8.0,8.5,9.0,9.5,10.0,10.5,11.0,11.5,12.0,12.5,\n",
    "13.0,13.5,14.0,14.5,15.0,15.5,16.0,16.5,17.0,17.5,18.0,18.5,19.0,19.5,20.0,20.5,21.0,21.5,22.0,22.5,23.0,23.5,24.0,24.5,\n",
    "25.0,25.5,26.0,26.5,27.0,27.5,28.0,28.5,29.0,29.5,30.0,30.5,31.0,31.5,32.0,32.5,33.0,33.5,34.0,34.5,35.0,35.5,36.0,36.5,37.0,\n",
    "37.5,38.0,38.5,39.0,39.5,40.0,40.5,41.0,41.5,42.0,42.5,43.0,43.5,44.0,44.5,45.0,45.5,46.0,46.5,47.0,47.5])\n",
    "\n",
    "data = np.array([474,509.3333333,657.3333333,748.6666667,889.6666667,1001.333333,1213,1468.666667,1639.666667,1834.333333,\n",
    "2040.333333,2255.666667,2447.333333,2650,2839.666667,3053.666667,3218.333333,3386,3510,3596.333333,3634,3657,3651,3622,\n",
    "3604.666667,3541.333333,3451,3359.666667,3259.666667,3149.666667,3055.666667,2949.333333,2860,2781.666667,2709.666667,\n",
    "2647.666667,2610.666667,2560.333333,2506,2449,2396.333333,2338.333333,2270.333333,2214,2142.666667,2096.333333,2044,\n",
    "1988.666667,1947.666667,1910.666667,1868,1843.333333,1810,1776.333333,1759,1725.666667,1708,1681,1654.666667,1627.333333,1607.333333,\n",
    "1594.333333,1563.333333,1540.333333,1527.333333,1504.666667,1482.333333,1467.333333,1453,1428.333333,1410.666667,1397.666667,\n",
    "1379.666667,1367.666667,1355.333333,1348,1334.333333,1321,1312.666667,1302,1282.333333,1280.666667,1261.666667,1244,1229.333333,\n",
    "1214.333333,1198.333333,1188.333333,1172.333333,1154.333333,1148,1134.666667,1113.333333,1108.333333,1094.666667,1088.333333\n",
    "])\n",
    "                \n",
    "data = np.reshape(data, (96,1))\n",
    "pT = 25 #nM"
   ]
  },
  {
   "cell_type": "code",
   "execution_count": 3,
   "metadata": {},
   "outputs": [],
   "source": [
    "#Function to generate ODEs for the qCRISPRi system\n",
    "\n",
    "def ode_gen_qCRISPRi(y, t, p ):\n",
    "    #unpack y values. \n",
    "    LuxR, dCas9, A, LuxR_A, P0, P1, pC, pD, N, GFP  = y\n",
    "    \n",
    "    alpha0 = p['alpha0']\n",
    "    alphaI = p['alphaI']\n",
    "    alphaR = p['alphaR']\n",
    "    alphaG = p['alphaG']\n",
    "\n",
    "    k1R = p['k1R']\n",
    "    k2R = p['k2R']\n",
    "    kcasR = p['kcasR'] \n",
    "    kd1 = p['kd1']\n",
    "    kd2 = p['kd2'] \n",
    "    kdCas = p['kdCas'] \n",
    "    dG = p['dG']\n",
    "    dR = p['dR'] \n",
    "    dA = p['dA'] \n",
    "    dCas = p['dCas'] \n",
    "    m = p['m']\n",
    "    c = p['c'] \n",
    "   \n",
    "    \n",
    "    values = [\n",
    "              alphaR*pT - 2*(k1R/kd1)*(LuxR)*(A) + 2*k1R*LuxR_A - (1.3+ dR)*LuxR,   #LuxR\n",
    "              alphaI*P1 + alpha0*P0 - ( 1.3+ dCas)*dCas9 -(kcasR/kdCas)*dCas9*pC + kcasR*pD,    #dCas9\n",
    "              (alphaI*P1 + alpha0*P0)*(1000)*(10**(-12))*N + k1R*LuxR_A - (k1R/kd1)*(LuxR)*(A)  - (1.3+dA)*A,  #AHL\n",
    "              (k1R/kd1)*(LuxR)*(A) - k1R*LuxR_A - (k2R/kd2)*LuxR_A*P0 + k2R*P1 - (1.3+ dR)*LuxR_A ,  #LuxR_A\n",
    "              -(k2R/kd2)*LuxR_A*P0 + k2R*P1,  #P0 Inactive promoter (basal/leaky expression)\n",
    "              (k2R/kd2)*LuxR_A*P0 - k2R*P1,  #P1 Active promoter (LuxR:AHL activated)\n",
    "              -(kcasR/kdCas)*dCas9*pC + kcasR*pD,  # pC - Constitutive promoter\n",
    "              (kcasR/kdCas)*dCas9*pC - kcasR*pD,  # pD - dCas9 bound repressed promoter\n",
    "              1.7*N*(1- N/(10**12)),  #N (cell density CFU/l)\n",
    "              m*(alphaG*pC + alphaG*0.1*pD - (1.3+ dG)*GFP) +c] #GFP Cas9 repressed\n",
    "              #alphaG*pT - (1.3+ dG)*GFPc] #GFP just constitutive (control)       no need for model fit       \n",
    "    \n",
    "    return(values)"
   ]
  },
  {
   "cell_type": "code",
   "execution_count": 4,
   "metadata": {},
   "outputs": [],
   "source": [
    "def g(t, x0, p):\n",
    "    \"\"\"\n",
    "    Solution to the ODE x'(t) = f(t,x,k) with initial condition x(0) = x0\n",
    "    \"\"\"\n",
    "    sol = odeint(ode_gen_qCRISPRi, x0, t, args=(p,))\n",
    "    return sol\n"
   ]
  },
  {
   "cell_type": "code",
   "execution_count": 5,
   "metadata": {},
   "outputs": [],
   "source": [
    "def least_squares(gfp, data):\n",
    "    return(sum([(i - j)**2 for i, j in zip(gfp, data)]))"
   ]
  },
  {
   "cell_type": "code",
   "execution_count": 6,
   "metadata": {},
   "outputs": [],
   "source": [
    "def residual(particles):\n",
    "    x0 = [0, 0, 0, 0, 25, 0, 25, 0, 10**7, 1000]\n",
    "    obj_value = []\n",
    "    for X in particles:\n",
    "        p = {'alpha0': X[0],\n",
    "             'alphaI': X[1],\n",
    "             'alphaR': X[2],\n",
    "             'alphaG': X[3],\n",
    "             'k1R'   : X[4],\n",
    "             'k2R'   : X[5],\n",
    "             'kcasR' : X[6],\n",
    "             'kd1'   : X[7],\n",
    "             'kd2'   : X[8],\n",
    "             'kdCas' : X[9],\n",
    "             'dG'    : X[10],\n",
    "             'dR'    : X[11],\n",
    "             'dA'    : X[12],\n",
    "             'dCas'  : X[13],\n",
    "             'm'     : X[14],\n",
    "             'c'     : X[15]}\n",
    "        model_sol = g(t, x0, p)\n",
    "        GFP = np.reshape(model_sol[:, 9], (96,1))\n",
    "        obj_value.append(least_squares(GFP, data)[0])\n",
    "    return (obj_value)\n",
    "  "
   ]
  },
  {
   "cell_type": "code",
   "execution_count": 14,
   "metadata": {
    "scrolled": true
   },
   "outputs": [
    {
     "name": "stderr",
     "output_type": "stream",
     "text": [
      "2023-10-25 13:55:59,985 - pyswarms.single.global_best - INFO - Optimize for 12 iters with {'c1': 2.8, 'c2': 2, 'w': 0.9}\n",
      "pyswarms.single.global_best: 100%|████████████████████|12/12, best_cost=5.59e+7\n",
      "2023-10-25 15:14:59,592 - pyswarms.single.global_best - INFO - Optimization finished | best cost: 55926183.80479202, best pos: [3.43478459e-01 3.44351362e+01 3.61931935e+00 3.37832755e+02\n",
      " 1.37224519e+00 2.19446834e-01 1.67052749e+01 2.76528977e+00\n",
      " 1.86278847e+02 2.69729983e+00 9.51402957e-01 6.02702412e-01\n",
      " 7.19392653e-02 1.62020938e+00 6.16825274e-02 2.09895994e+02]\n"
     ]
    }
   ],
   "source": [
    "# Set-up hyperparameters\n",
    "options = { 'c1' : 2.8,  'c2' : 2,  'w' :0.9}\n",
    "\n",
    "constraints = (np.array([0.25, 7 , 1 , 100 , 0,    0,    0,   0,   0, 2.2, 0.7, 0.5, 0.001, 0.5, 0,   25]),\n",
    "               np.array([ 0.6, 40, 60 , 350 , 150, 150, 150, 200, 200,  3,   2,   3,   0.1,   2,  1.5, 400]))\n",
    "\n",
    "\n",
    "# Call instance of PSO\n",
    "optimizer = ps.single.GlobalBestPSO(n_particles=10000, dimensions=16, options=options, bounds = constraints)\n",
    "\n",
    "# Perform optimization\n",
    "cost, pos = optimizer.optimize(residual, iters=12)\n",
    "\n"
   ]
  },
  {
   "cell_type": "code",
   "execution_count": 18,
   "metadata": {},
   "outputs": [],
   "source": [
    "pos = [4.52222501e-01, 1.64685383e+01, 9.71411490e+00, 3.18300218e+02,\n",
    " 5.40972904e+01, 1.06212496e+02, 1.15674869e-02 ,7.74218926e+01,\n",
    " 1.92404888e+02, 2.63710233e+00, 1.10282819e+00 ,2.56169162e+00,\n",
    " 2.09383329e-02, 1.51064576e+00 ,7.62956824e-02, 1.50643056e+02]"
   ]
  },
  {
   "cell_type": "code",
   "execution_count": 8,
   "metadata": {},
   "outputs": [
    {
     "data": {
      "text/plain": [
       "<matplotlib.legend.Legend at 0x20d293e27c8>"
      ]
     },
     "execution_count": 8,
     "metadata": {},
     "output_type": "execute_result"
    },
    {
     "data": {
      "image/png": "[encoded data removed]",
      "text/plain": [
       "<Figure size 432x288 with 1 Axes>"
      ]
     },
     "metadata": {
      "needs_background": "light"
     },
     "output_type": "display_data"
    }
   ],
   "source": [
    "p = {'alpha0': pos[0],\n",
    "     'alphaI': pos[1],\n",
    "     'alphaR': pos[2],\n",
    "     'alphaG': pos[3],\n",
    "     'k1R'   : pos[4],\n",
    "     'k2R'   : pos[5],\n",
    "     'kcasR' : pos[6],\n",
    "     'kd1'   : pos[7],\n",
    "     'kd2'   : pos[8],\n",
    "     'kdCas' : pos[9],\n",
    "     'dG'    : pos[10],\n",
    "     'dR'    : pos[11],\n",
    "     'dA'    : pos[12],\n",
    "     'dCas'  : pos[13],\n",
    "     'm'     : pos[14],\n",
    "     'c'     : pos[15]}\n",
    "sim_gfp = g(t, [0, 0, 0, 0, 25, 0, 25, 0, 10**7, 500], p)\n",
    "plt.plot(t, data, 'o', c= 'blue', label = 'Experimental')\n",
    "plt.plot(t, sim_gfp[:,9], '--', linewidth=2, c='orange', label = 'Model');\n",
    "plt.legend()"
   ]
  },
  {
   "cell_type": "code",
   "execution_count": 27,
   "metadata": {},
   "outputs": [
    {
     "data": {
      "text/html": [
       "<div>\n",
       "<style scoped>\n",
       "    .dataframe tbody tr th:only-of-type {\n",
       "        vertical-align: middle;\n",
       "    }\n",
       "\n",
       "    .dataframe tbody tr th {\n",
       "        vertical-align: top;\n",
       "    }\n",
       "\n",
       "    .dataframe thead th {\n",
       "        text-align: right;\n",
       "    }\n",
       "</style>\n",
       "<table border=\"1\" class=\"dataframe\">\n",
       "  <thead>\n",
       "    <tr style=\"text-align: right;\">\n",
       "      <th></th>\n",
       "      <th>LuxR</th>\n",
       "      <th>dCas9</th>\n",
       "      <th>AHL</th>\n",
       "      <th>LuxR_AHL</th>\n",
       "      <th>InacP</th>\n",
       "      <th>AcP</th>\n",
       "      <th>pC</th>\n",
       "      <th>pD</th>\n",
       "      <th>N</th>\n",
       "      <th>GFP</th>\n",
       "    </tr>\n",
       "  </thead>\n",
       "  <tbody>\n",
       "    <tr>\n",
       "      <th>0</th>\n",
       "      <td>0.000000</td>\n",
       "      <td>0.000000</td>\n",
       "      <td>0.000000</td>\n",
       "      <td>0.000000</td>\n",
       "      <td>25.000000</td>\n",
       "      <td>0.000000</td>\n",
       "      <td>25.000000</td>\n",
       "      <td>0.000000</td>\n",
       "      <td>1.000000e+07</td>\n",
       "      <td>500.000000</td>\n",
       "    </tr>\n",
       "    <tr>\n",
       "      <th>1</th>\n",
       "      <td>422.575738</td>\n",
       "      <td>0.415737</td>\n",
       "      <td>0.003757</td>\n",
       "      <td>0.035828</td>\n",
       "      <td>24.999990</td>\n",
       "      <td>0.000010</td>\n",
       "      <td>22.016987</td>\n",
       "      <td>2.983013</td>\n",
       "      <td>2.339616e+07</td>\n",
       "      <td>871.882098</td>\n",
       "    </tr>\n",
       "    <tr>\n",
       "      <th>2</th>\n",
       "      <td>585.517620</td>\n",
       "      <td>0.856117</td>\n",
       "      <td>0.007512</td>\n",
       "      <td>0.100184</td>\n",
       "      <td>24.999951</td>\n",
       "      <td>0.000049</td>\n",
       "      <td>19.467495</td>\n",
       "      <td>5.532505</td>\n",
       "      <td>5.473703e+07</td>\n",
       "      <td>1177.096550</td>\n",
       "    </tr>\n",
       "    <tr>\n",
       "      <th>3</th>\n",
       "      <td>648.153094</td>\n",
       "      <td>1.314494</td>\n",
       "      <td>0.016323</td>\n",
       "      <td>0.241277</td>\n",
       "      <td>24.999853</td>\n",
       "      <td>0.000147</td>\n",
       "      <td>17.371587</td>\n",
       "      <td>7.628413</td>\n",
       "      <td>1.280559e+08</td>\n",
       "      <td>1427.116475</td>\n",
       "    </tr>\n",
       "    <tr>\n",
       "      <th>4</th>\n",
       "      <td>671.775291</td>\n",
       "      <td>1.765179</td>\n",
       "      <td>0.037060</td>\n",
       "      <td>0.567891</td>\n",
       "      <td>24.999620</td>\n",
       "      <td>0.000380</td>\n",
       "      <td>15.707434</td>\n",
       "      <td>9.292566</td>\n",
       "      <td>2.995543e+08</td>\n",
       "      <td>1632.200023</td>\n",
       "    </tr>\n",
       "    <tr>\n",
       "      <th>...</th>\n",
       "      <td>...</td>\n",
       "      <td>...</td>\n",
       "      <td>...</td>\n",
       "      <td>...</td>\n",
       "      <td>...</td>\n",
       "      <td>...</td>\n",
       "      <td>...</td>\n",
       "      <td>...</td>\n",
       "      <td>...</td>\n",
       "      <td>...</td>\n",
       "    </tr>\n",
       "    <tr>\n",
       "      <th>91</th>\n",
       "      <td>0.055133</td>\n",
       "      <td>182.824920</td>\n",
       "      <td>267426.398913</td>\n",
       "      <td>343.962068</td>\n",
       "      <td>13.794841</td>\n",
       "      <td>11.205159</td>\n",
       "      <td>0.399169</td>\n",
       "      <td>24.600831</td>\n",
       "      <td>1.000000e+12</td>\n",
       "      <td>1754.799382</td>\n",
       "    </tr>\n",
       "    <tr>\n",
       "      <th>92</th>\n",
       "      <td>0.054712</td>\n",
       "      <td>184.217856</td>\n",
       "      <td>269486.551563</td>\n",
       "      <td>343.963283</td>\n",
       "      <td>13.709389</td>\n",
       "      <td>11.290611</td>\n",
       "      <td>0.396198</td>\n",
       "      <td>24.603802</td>\n",
       "      <td>1.000000e+12</td>\n",
       "      <td>1754.316833</td>\n",
       "    </tr>\n",
       "    <tr>\n",
       "      <th>93</th>\n",
       "      <td>0.054301</td>\n",
       "      <td>185.595458</td>\n",
       "      <td>271524.029630</td>\n",
       "      <td>343.964482</td>\n",
       "      <td>13.624877</td>\n",
       "      <td>11.375123</td>\n",
       "      <td>0.393303</td>\n",
       "      <td>24.606697</td>\n",
       "      <td>1.000000e+12</td>\n",
       "      <td>1753.850602</td>\n",
       "    </tr>\n",
       "    <tr>\n",
       "      <th>94</th>\n",
       "      <td>0.053901</td>\n",
       "      <td>186.957896</td>\n",
       "      <td>273539.082518</td>\n",
       "      <td>343.965665</td>\n",
       "      <td>13.541295</td>\n",
       "      <td>11.458705</td>\n",
       "      <td>0.390482</td>\n",
       "      <td>24.609518</td>\n",
       "      <td>1.000000e+12</td>\n",
       "      <td>1753.399873</td>\n",
       "    </tr>\n",
       "    <tr>\n",
       "      <th>95</th>\n",
       "      <td>0.053512</td>\n",
       "      <td>188.305336</td>\n",
       "      <td>275531.956903</td>\n",
       "      <td>343.966832</td>\n",
       "      <td>13.458634</td>\n",
       "      <td>11.541366</td>\n",
       "      <td>0.387731</td>\n",
       "      <td>24.612269</td>\n",
       "      <td>1.000000e+12</td>\n",
       "      <td>1752.963881</td>\n",
       "    </tr>\n",
       "  </tbody>\n",
       "</table>\n",
       "<p>96 rows × 10 columns</p>\n",
       "</div>"
      ],
      "text/plain": [
       "          LuxR       dCas9            AHL    LuxR_AHL      InacP        AcP  \\\n",
       "0     0.000000    0.000000       0.000000    0.000000  25.000000   0.000000   \n",
       "1   422.575738    0.415737       0.003757    0.035828  24.999990   0.000010   \n",
       "2   585.517620    0.856117       0.007512    0.100184  24.999951   0.000049   \n",
       "3   648.153094    1.314494       0.016323    0.241277  24.999853   0.000147   \n",
       "4   671.775291    1.765179       0.037060    0.567891  24.999620   0.000380   \n",
       "..         ...         ...            ...         ...        ...        ...   \n",
       "91    0.055133  182.824920  267426.398913  343.962068  13.794841  11.205159   \n",
       "92    0.054712  184.217856  269486.551563  343.963283  13.709389  11.290611   \n",
       "93    0.054301  185.595458  271524.029630  343.964482  13.624877  11.375123   \n",
       "94    0.053901  186.957896  273539.082518  343.965665  13.541295  11.458705   \n",
       "95    0.053512  188.305336  275531.956903  343.966832  13.458634  11.541366   \n",
       "\n",
       "           pC         pD             N          GFP  \n",
       "0   25.000000   0.000000  1.000000e+07   500.000000  \n",
       "1   22.016987   2.983013  2.339616e+07   871.882098  \n",
       "2   19.467495   5.532505  5.473703e+07  1177.096550  \n",
       "3   17.371587   7.628413  1.280559e+08  1427.116475  \n",
       "4   15.707434   9.292566  2.995543e+08  1632.200023  \n",
       "..        ...        ...           ...          ...  \n",
       "91   0.399169  24.600831  1.000000e+12  1754.799382  \n",
       "92   0.396198  24.603802  1.000000e+12  1754.316833  \n",
       "93   0.393303  24.606697  1.000000e+12  1753.850602  \n",
       "94   0.390482  24.609518  1.000000e+12  1753.399873  \n",
       "95   0.387731  24.612269  1.000000e+12  1752.963881  \n",
       "\n",
       "[96 rows x 10 columns]"
      ]
     },
     "execution_count": 27,
     "metadata": {},
     "output_type": "execute_result"
    }
   ],
   "source": [
    "data = pd.DataFrame(sim_gfp, columns =  ['LuxR', 'dCas9', 'AHL', 'LuxR_AHL', 'InacP', 'AcP', 'pC', 'pD', 'N', 'GFP'])\n",
    "data"
   ]
  },
  {
   "cell_type": "code",
   "execution_count": 28,
   "metadata": {},
   "outputs": [
    {
     "data": {
      "text/plain": [
       "array([ 500.        ,  871.88209846, 1177.09654975, 1427.11647497,\n",
       "       1632.20002305, 1801.19989181, 1941.45846605, 2058.82073772,\n",
       "       2157.71948558, 2241.21889191, 2310.82358112, 2365.69618486,\n",
       "       2401.45744718, 2414.40020592, 2407.80408791, 2388.38165855,\n",
       "       2361.76732544, 2331.55700628, 2299.87629309, 2267.97970433,\n",
       "       2236.61928279, 2206.24910837, 2177.13930531, 2149.44218389,\n",
       "       2123.23248451, 2098.53298923, 2075.33145507, 2053.59212416,\n",
       "       2033.26372141, 2014.28511617, 1996.58933204, 1980.10642936,\n",
       "       1964.76556642, 1950.49646011, 1937.23041901, 1924.90104923,\n",
       "       1913.44472308, 1902.80087208, 1892.91215039, 1883.72450379,\n",
       "       1875.18713721, 1867.25250964, 1859.87619206, 1853.01677376,\n",
       "       1846.63572082, 1840.69723256, 1835.16808937, 1830.01750715,\n",
       "       1825.21697667, 1820.74011985, 1816.56255976, 1812.66176128,\n",
       "       1809.01691274, 1805.60881099, 1802.41975021, 1799.43338428,\n",
       "       1796.63464109, 1794.00959857, 1791.54545321, 1789.23039829,\n",
       "       1787.05353688, 1785.00483135, 1783.07502768, 1781.25559322,\n",
       "       1779.5386627 , 1777.91698089, 1776.38385382, 1774.93311263,\n",
       "       1773.55905923, 1772.25643499, 1771.02039492, 1769.84645584,\n",
       "       1768.73047798, 1767.66863765, 1766.65739987, 1765.69349182,\n",
       "       1764.77389616, 1763.89581253, 1763.05664665, 1762.25399441,\n",
       "       1761.48562939, 1760.7494898 , 1760.04366179, 1759.3663673 ,\n",
       "       1758.71595625, 1758.09089087, 1757.4897417 , 1756.91118527,\n",
       "       1756.35398613, 1755.81699001, 1755.29912253, 1754.79938206,\n",
       "       1754.31683341, 1753.85060229, 1753.39987314, 1752.96388117])"
      ]
     },
     "execution_count": 28,
     "metadata": {},
     "output_type": "execute_result"
    }
   ],
   "source": [
    "sim_gfp[:,9]"
   ]
  },
  {
   "cell_type": "code",
   "execution_count": null,
   "metadata": {},
   "outputs": [],
   "source": [
    "#new equations\n",
    "best cost: 18779456.100831766, best pos: [2.66391776e-01 2.16558908e+01 4.51381342e+01 3.41765776e+02\n",
    " 4.67337973e+01 6.81169079e+01 1.29405391e-03 1.79435486e+02\n",
    " 1.74874356e+02 2.90415210e+00 1.94788306e+00 1.28728812e+00\n",
    " 5.71430159e-02 1.70540840e+00 7.34923668e-02 1.33396605e+02]"
   ]
  },
  {
   "cell_type": "code",
   "execution_count": null,
   "metadata": {},
   "outputs": [],
   "source": [
    "final params used: (old data)\n",
    "    cost:3.95*10**6\n",
    "    params: \n",
    "        [2.50951495e-01 7.01443237e+00 5.83664524e+01 2.90774779e+02\n",
    " 8.08792034e+01 6.55446091e+01 3.46409094e-01 1.05474030e+02\n",
    " 1.50412360e+02 2.89303787e+00 8.64890773e-01 2.45014936e+00\n",
    " 9.37285933e-02 1.69998133e+00 1.97918626e-01 3.09399320e+02]"
   ]
  },
  {
   "cell_type": "code",
   "execution_count": null,
   "metadata": {},
   "outputs": [],
   "source": [
    "# new data params \n",
    "best cost: 16964747.67712104, best pos: [4.52222501e-01, 1.64685383e+01, 9.71411490e+00, 3.18300218e+02,\n",
    " 5.40972904e+01, 1.06212496e+02, 1.15674869e-02 ,7.74218926e+01,\n",
    " 1.92404888e+02, 2.63710233e+00, 1.10282819e+00 ,2.56169162e+00,\n",
    " 2.09383329e-02, 1.51064576e+00 ,7.62956824e-02, 1.50643056e+02]\n",
    "        \n",
    "        \n"
   ]
  },
  {
   "cell_type": "code",
   "execution_count": null,
   "metadata": {},
   "outputs": [],
   "source": [
    "with open('fitparams.txt', 'w') as file:\n",
    "    file.write('Cost: \\n')\n",
    "    file.write('\\n'.join([str(cost)]))\n",
    "    file.write('\\nParams: \\n')\n",
    "    file.write('\\n'.join(str(param) for param in pos))\n",
    "    \n"
   ]
  },
  {
   "cell_type": "code",
   "execution_count": null,
   "metadata": {},
   "outputs": [],
   "source": [
    "p = {'alpha0': X[0],\n",
    "             'alphaI': X[1],\n",
    "             'alphaR': X[2],\n",
    "             'alphaG': X[3],\n",
    "             'k1R'   : X[4],\n",
    "             'k2R'   : X[5],\n",
    "             'kcasR' : X[6],\n",
    "             'kd1'   : X[7],\n",
    "             'kd2'   : X[8],\n",
    "             'kdCas' : X[9],\n",
    "             'dG'    : X[10],\n",
    "             'dR'    : X[11],\n",
    "             'dA'    : X[12],\n",
    "             'dCas'  : X[13],\n",
    "             'm'     : X[14],\n",
    "             'c'     : X[15]}"
   ]
  },
  {
   "cell_type": "markdown",
   "metadata": {},
   "source": [
    "alpha0 and alphaI relation:\n",
    "http://parts.igem.org/Part:BBa_R0062:Experience"
   ]
  },
  {
   "cell_type": "code",
   "execution_count": 46,
   "metadata": {},
   "outputs": [
    {
     "data": {
      "text/plain": [
       "10"
      ]
     },
     "execution_count": 46,
     "metadata": {},
     "output_type": "execute_result"
    }
   ],
   "source": [
    "cost = least_squares([1,1,1,1], [2,2,3,3])\n",
    "cost"
   ]
  },
  {
   "cell_type": "code",
   "execution_count": 17,
   "metadata": {},
   "outputs": [
    {
     "data": {
      "text/plain": [
       "[0.1]"
      ]
     },
     "execution_count": 17,
     "metadata": {},
     "output_type": "execute_result"
    }
   ],
   "source": [
    "alpha0 = 0.275\n",
    "a = [round(alpha0/2, 1)]\n",
    "a"
   ]
  },
  {
   "cell_type": "code",
   "execution_count": null,
   "metadata": {},
   "outputs": [],
   "source": []
  }
 ],
 "metadata": {
  "kernelspec": {
   "display_name": "Python 3",
   "language": "python",
   "name": "python3"
  },
  "language_info": {
   "codemirror_mode": {
    "name": "ipython",
    "version": 3
   },
   "file_extension": ".py",
   "mimetype": "text/x-python",
   "name": "python",
   "nbconvert_exporter": "python",
   "pygments_lexer": "ipython3",
   "version": "3.7.4"
  },
  "toc": {
   "base_numbering": 1,
   "nav_menu": {},
   "number_sections": true,
   "sideBar": true,
   "skip_h1_title": false,
   "title_cell": "Table of Contents",
   "title_sidebar": "Contents",
   "toc_cell": false,
   "toc_position": {},
   "toc_section_display": true,
   "toc_window_display": false
  }
 },
 "nbformat": 4,
 "nbformat_minor": 4
}
